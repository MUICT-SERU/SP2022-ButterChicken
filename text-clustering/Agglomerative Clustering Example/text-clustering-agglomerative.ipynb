{
  "nbformat": 4,
  "nbformat_minor": 0,
  "metadata": {
    "colab": {
      "provenance": []
    },
    "kernelspec": {
      "name": "python3",
      "display_name": "Python 3"
    },
    "language_info": {
      "name": "python"
    }
  },
  "cells": [
    {
      "cell_type": "markdown",
      "source": [
        "# Getting started\n"
      ],
      "metadata": {
        "id": "QDYclPR8nsv5"
      }
    },
    {
      "cell_type": "markdown",
      "source": [
        "Let's start by importing the packages we'll need. As usual, we'll import pandas for exploratory analysis, but this week we're also going to use the cluster subpackage from scikit-learn to create agglomerative clustering models and the standard Python package urllib2 to download documents from Project Gutenberg."
      ],
      "metadata": {
        "id": "AL8OxNtunpb-"
      }
    },
    {
      "cell_type": "code",
      "execution_count": 8,
      "metadata": {
        "id": "kN3KWcFHkNiH"
      },
      "outputs": [],
      "source": [
        "%matplotlib inline\n",
        "import pandas as pd\n",
        "# import urllib as urllib2\n",
        "from urllib.request import urlopen\n",
        "\n",
        "from sklearn.cluster import AgglomerativeClustering\n",
        "from sklearn.feature_extraction.text import TfidfVectorizer\n",
        "from sklearn.pipeline import make_pipeline\n",
        "from sklearn.preprocessing import FunctionTransformer"
      ]
    },
    {
      "cell_type": "markdown",
      "source": [
        "In this lab, we're going to cluster documents by the similarity of their text content. For this, we'll need to download some documents to cluster. The following dictionary maps the names of various texts to their corresponding URLs at [Project Gutenberg](https://www.gutenberg.org/)."
      ],
      "metadata": {
        "id": "a5R-koFHnu80"
      }
    },
    {
      "cell_type": "code",
      "source": [
        "urls = {\n",
        "    'The Iliad - Homer': 'https://www.gutenberg.org/cache/epub/1727/pg1727.txt',\n",
        "    'The Odyssey - Homer': 'https://www.gutenberg.org/cache/epub/1727/pg1727.txt',\n",
        "    'Romeo and Juliet - William Shakespeare': 'https://www.gutenberg.org/cache/epub/1112/pg1112.txt',\n",
        "    'Hamlet - William Shakespeare': 'https://www.gutenberg.org/files/1524/1524-0.txt',\n",
        "    'Adventures of Huckleberry Finn - Mark Twain': 'https://www.gutenberg.org/files/76/76-0.txt',\n",
        "    'The Adventures of Tom Sawyer - Mark Twain': 'https://www.gutenberg.org/files/74/74-0.txt',\n",
        "    'A Tale of Two Cities - Charles Dickens': 'https://www.gutenberg.org/files/98/98-0.txt',\n",
        "    'Great Expectations - Charles Dickens': 'https://www.gutenberg.org/files/1400/1400-0.txt',\n",
        "    'Oliver Twist - Charles Dickens': 'https://www.gutenberg.org/cache/epub/730/pg730.txt'\n",
        "    # 'The Adventures of Sherlock Holmes - Arthur Conan Doyle': 'https://www.gutenberg.org/cache/epub/1661/pg1661.txt'\n",
        "}"
      ],
      "metadata": {
        "id": "8o3FE9dEnN9k"
      },
      "execution_count": 13,
      "outputs": []
    },
    {
      "cell_type": "markdown",
      "source": [
        "Next, we need to download the texts located at the URLs. We can do this using Python's urllib2 package, which is part of the standard Python library. The following code will download the content of each URL and store it in the documents dictionary:"
      ],
      "metadata": {
        "id": "YcTiRNCNn4-u"
      }
    },
    {
      "cell_type": "code",
      "source": [
        "# Documents from the article\n",
        "documents = {}\n",
        "for name, url in urls.items():\n",
        "    print(name)\n",
        "    response = urlopen(url)\n",
        "    document = response.read()\n",
        "    print(document)\n",
        "    print('=====')\n",
        "    documents[name] = document"
      ],
      "metadata": {
        "id": "QxLOY04un5cW"
      },
      "execution_count": null,
      "outputs": []
    },
    {
      "cell_type": "code",
      "source": [
        "# Example documents from Markdown content\n",
        "# Uncomment to use our example."
      ],
      "metadata": {
        "id": "wvwbVjjasRNn"
      },
      "execution_count": null,
      "outputs": []
    },
    {
      "cell_type": "markdown",
      "source": [
        "Finally, we can create a pandas data frame to represent our document data:"
      ],
      "metadata": {
        "id": "m_O5P_G2ogeK"
      }
    },
    {
      "cell_type": "code",
      "source": [
        "df = pd.DataFrame([documents[name] for name in sorted(documents)], index=sorted(documents), columns=['text'])\n",
        "\n",
        "df.head(10)"
      ],
      "metadata": {
        "colab": {
          "base_uri": "https://localhost:8080/",
          "height": 332
        },
        "id": "6qQ6pK1Gn_zY",
        "outputId": "0d24a8c2-f74c-4b2e-ce52-6a688e1e04f2"
      },
      "execution_count": 15,
      "outputs": [
        {
          "output_type": "execute_result",
          "data": {
            "text/plain": [
              "                                                                                          text\n",
              "A Tale of Two Cities - Charles Dickens       b'\\xef\\xbb\\xbfThe Project Gutenberg eBook of A...\n",
              "Adventures of Huckleberry Finn - Mark Twain  b'\\xef\\xbb\\xbfThe Project Gutenberg eBook of A...\n",
              "Great Expectations - Charles Dickens         b'\\xef\\xbb\\xbfThe Project Gutenberg eBook of G...\n",
              "Hamlet - William Shakespeare                 b'\\xef\\xbb\\xbfThe Project Gutenberg eBook of H...\n",
              "Oliver Twist - Charles Dickens               b'\\xef\\xbb\\xbfThe Project Gutenberg eBook of O...\n",
              "Romeo and Juliet - William Shakespeare       b'\\xef\\xbb\\xbfThe Project Gutenberg EBook of R...\n",
              "The Adventures of Tom Sawyer - Mark Twain    b'\\xef\\xbb\\xbfThe Project Gutenberg eBook of T...\n",
              "The Iliad - Homer                            b'\\xef\\xbb\\xbfThe Project Gutenberg eBook of T...\n",
              "The Odyssey - Homer                          b'\\xef\\xbb\\xbfThe Project Gutenberg eBook of T..."
            ],
            "text/html": [
              "\n",
              "  <div id=\"df-aa2df149-e88b-4f79-9b74-d2d19c2ccf0c\">\n",
              "    <div class=\"colab-df-container\">\n",
              "      <div>\n",
              "<style scoped>\n",
              "    .dataframe tbody tr th:only-of-type {\n",
              "        vertical-align: middle;\n",
              "    }\n",
              "\n",
              "    .dataframe tbody tr th {\n",
              "        vertical-align: top;\n",
              "    }\n",
              "\n",
              "    .dataframe thead th {\n",
              "        text-align: right;\n",
              "    }\n",
              "</style>\n",
              "<table border=\"1\" class=\"dataframe\">\n",
              "  <thead>\n",
              "    <tr style=\"text-align: right;\">\n",
              "      <th></th>\n",
              "      <th>text</th>\n",
              "    </tr>\n",
              "  </thead>\n",
              "  <tbody>\n",
              "    <tr>\n",
              "      <th>A Tale of Two Cities - Charles Dickens</th>\n",
              "      <td>b'\\xef\\xbb\\xbfThe Project Gutenberg eBook of A...</td>\n",
              "    </tr>\n",
              "    <tr>\n",
              "      <th>Adventures of Huckleberry Finn - Mark Twain</th>\n",
              "      <td>b'\\xef\\xbb\\xbfThe Project Gutenberg eBook of A...</td>\n",
              "    </tr>\n",
              "    <tr>\n",
              "      <th>Great Expectations - Charles Dickens</th>\n",
              "      <td>b'\\xef\\xbb\\xbfThe Project Gutenberg eBook of G...</td>\n",
              "    </tr>\n",
              "    <tr>\n",
              "      <th>Hamlet - William Shakespeare</th>\n",
              "      <td>b'\\xef\\xbb\\xbfThe Project Gutenberg eBook of H...</td>\n",
              "    </tr>\n",
              "    <tr>\n",
              "      <th>Oliver Twist - Charles Dickens</th>\n",
              "      <td>b'\\xef\\xbb\\xbfThe Project Gutenberg eBook of O...</td>\n",
              "    </tr>\n",
              "    <tr>\n",
              "      <th>Romeo and Juliet - William Shakespeare</th>\n",
              "      <td>b'\\xef\\xbb\\xbfThe Project Gutenberg EBook of R...</td>\n",
              "    </tr>\n",
              "    <tr>\n",
              "      <th>The Adventures of Tom Sawyer - Mark Twain</th>\n",
              "      <td>b'\\xef\\xbb\\xbfThe Project Gutenberg eBook of T...</td>\n",
              "    </tr>\n",
              "    <tr>\n",
              "      <th>The Iliad - Homer</th>\n",
              "      <td>b'\\xef\\xbb\\xbfThe Project Gutenberg eBook of T...</td>\n",
              "    </tr>\n",
              "    <tr>\n",
              "      <th>The Odyssey - Homer</th>\n",
              "      <td>b'\\xef\\xbb\\xbfThe Project Gutenberg eBook of T...</td>\n",
              "    </tr>\n",
              "  </tbody>\n",
              "</table>\n",
              "</div>\n",
              "      <button class=\"colab-df-convert\" onclick=\"convertToInteractive('df-aa2df149-e88b-4f79-9b74-d2d19c2ccf0c')\"\n",
              "              title=\"Convert this dataframe to an interactive table.\"\n",
              "              style=\"display:none;\">\n",
              "        \n",
              "  <svg xmlns=\"http://www.w3.org/2000/svg\" height=\"24px\"viewBox=\"0 0 24 24\"\n",
              "       width=\"24px\">\n",
              "    <path d=\"M0 0h24v24H0V0z\" fill=\"none\"/>\n",
              "    <path d=\"M18.56 5.44l.94 2.06.94-2.06 2.06-.94-2.06-.94-.94-2.06-.94 2.06-2.06.94zm-11 1L8.5 8.5l.94-2.06 2.06-.94-2.06-.94L8.5 2.5l-.94 2.06-2.06.94zm10 10l.94 2.06.94-2.06 2.06-.94-2.06-.94-.94-2.06-.94 2.06-2.06.94z\"/><path d=\"M17.41 7.96l-1.37-1.37c-.4-.4-.92-.59-1.43-.59-.52 0-1.04.2-1.43.59L10.3 9.45l-7.72 7.72c-.78.78-.78 2.05 0 2.83L4 21.41c.39.39.9.59 1.41.59.51 0 1.02-.2 1.41-.59l7.78-7.78 2.81-2.81c.8-.78.8-2.07 0-2.86zM5.41 20L4 18.59l7.72-7.72 1.47 1.35L5.41 20z\"/>\n",
              "  </svg>\n",
              "      </button>\n",
              "      \n",
              "  <style>\n",
              "    .colab-df-container {\n",
              "      display:flex;\n",
              "      flex-wrap:wrap;\n",
              "      gap: 12px;\n",
              "    }\n",
              "\n",
              "    .colab-df-convert {\n",
              "      background-color: #E8F0FE;\n",
              "      border: none;\n",
              "      border-radius: 50%;\n",
              "      cursor: pointer;\n",
              "      display: none;\n",
              "      fill: #1967D2;\n",
              "      height: 32px;\n",
              "      padding: 0 0 0 0;\n",
              "      width: 32px;\n",
              "    }\n",
              "\n",
              "    .colab-df-convert:hover {\n",
              "      background-color: #E2EBFA;\n",
              "      box-shadow: 0px 1px 2px rgba(60, 64, 67, 0.3), 0px 1px 3px 1px rgba(60, 64, 67, 0.15);\n",
              "      fill: #174EA6;\n",
              "    }\n",
              "\n",
              "    [theme=dark] .colab-df-convert {\n",
              "      background-color: #3B4455;\n",
              "      fill: #D2E3FC;\n",
              "    }\n",
              "\n",
              "    [theme=dark] .colab-df-convert:hover {\n",
              "      background-color: #434B5C;\n",
              "      box-shadow: 0px 1px 3px 1px rgba(0, 0, 0, 0.15);\n",
              "      filter: drop-shadow(0px 1px 2px rgba(0, 0, 0, 0.3));\n",
              "      fill: #FFFFFF;\n",
              "    }\n",
              "  </style>\n",
              "\n",
              "      <script>\n",
              "        const buttonEl =\n",
              "          document.querySelector('#df-aa2df149-e88b-4f79-9b74-d2d19c2ccf0c button.colab-df-convert');\n",
              "        buttonEl.style.display =\n",
              "          google.colab.kernel.accessAllowed ? 'block' : 'none';\n",
              "\n",
              "        async function convertToInteractive(key) {\n",
              "          const element = document.querySelector('#df-aa2df149-e88b-4f79-9b74-d2d19c2ccf0c');\n",
              "          const dataTable =\n",
              "            await google.colab.kernel.invokeFunction('convertToInteractive',\n",
              "                                                     [key], {});\n",
              "          if (!dataTable) return;\n",
              "\n",
              "          const docLinkHtml = 'Like what you see? Visit the ' +\n",
              "            '<a target=\"_blank\" href=https://colab.research.google.com/notebooks/data_table.ipynb>data table notebook</a>'\n",
              "            + ' to learn more about interactive tables.';\n",
              "          element.innerHTML = '';\n",
              "          dataTable['output_type'] = 'display_data';\n",
              "          await google.colab.output.renderOutput(dataTable, element);\n",
              "          const docLink = document.createElement('div');\n",
              "          docLink.innerHTML = docLinkHtml;\n",
              "          element.appendChild(docLink);\n",
              "        }\n",
              "      </script>\n",
              "    </div>\n",
              "  </div>\n",
              "  "
            ]
          },
          "metadata": {},
          "execution_count": 15
        }
      ]
    },
    {
      "cell_type": "markdown",
      "source": [
        "# Data modelling"
      ],
      "metadata": {
        "id": "PrA5M85FqAl1"
      }
    },
    {
      "cell_type": "markdown",
      "source": [
        "Let's build an agglomerative clustering model of the document data. As with $K$-means clustering, scikit-learn supports agglomerative clustering functionality via the cluster subpackage. We can use the AgglomerativeClustering class to build our model."
      ],
      "metadata": {
        "id": "HGO6bFtlqCZ-"
      }
    },
    {
      "cell_type": "markdown",
      "source": [
        "As with other scikit-learn estimators, AgglomerativeClustering accepts a number of different hyperparameters. We can get a list of these modelling parameters using the get_params method of the estimator (this works on any scikit-learn estimator), like this"
      ],
      "metadata": {
        "id": "-Xddyp0kqDt2"
      }
    },
    {
      "cell_type": "code",
      "source": [
        "AgglomerativeClustering().get_params()"
      ],
      "metadata": {
        "colab": {
          "base_uri": "https://localhost:8080/"
        },
        "id": "N3GntyYLp9AZ",
        "outputId": "2481ffd3-0bed-4fc1-da4b-ac9ca7801acc"
      },
      "execution_count": 16,
      "outputs": [
        {
          "output_type": "execute_result",
          "data": {
            "text/plain": [
              "{'affinity': 'euclidean',\n",
              " 'compute_distances': False,\n",
              " 'compute_full_tree': 'auto',\n",
              " 'connectivity': None,\n",
              " 'distance_threshold': None,\n",
              " 'linkage': 'ward',\n",
              " 'memory': None,\n",
              " 'n_clusters': 2}"
            ]
          },
          "metadata": {},
          "execution_count": 16
        }
      ]
    },
    {
      "cell_type": "markdown",
      "source": [
        "You can find a more detailed description of each parameter in the `scikit-learn` [documentation](http://scikit-learn.org/stable/modules/generated/sklearn.cluster.AgglomerativeClustering.html)."
      ],
      "metadata": {
        "id": "f45VjD0UqU6g"
      }
    },
    {
      "cell_type": "markdown",
      "source": [
        "As our data is in text format, we'll need to convert it into a numerical representation so that it can be understood by the clustering algorithm. One way to do this is by converting the document texts into vectors of TF-IDF scores, just as we did when building the spam classifier. This way, the clustering algorithm will identify documents with similar TF-IDF score vectors. This should result in clusters containing documents with similar text content, because if two documents have similar TF-IDF vectors, then they must contain the same words, occurring with the same frequencies.\n",
        "\n",
        "> Note: Comparing TF-IDF score vectors is one - but not the only - way to determine whether documents have similar content.\n",
        "\n",
        "As with the spam classification example, we can use a pipeline to connect the `TfidfVectorizer` to the `AgglomerativeClustering` algorithm. Because of a snag in the way `scikit-learn` is coded, the `AgglomerativeClustering` class only accepts dense matrices as inputs and, unfortunately, `TfidfVectorizer` produces sparse matrix output. However, this is easily recified by inserting a [`FunctionTransformer`](http://scikit-learn.org/stable/modules/generated/sklearn.preprocessing.FunctionTransformer.html#sklearn.preprocessing.FunctionTransformer) (essentially, a custom function) between the two that converts the sparse input to dense input.\n",
        "\n",
        "The code specifying the pipeline and fitting the data is shown below. Note that, as with $K$-means clustering, agglomerative clustering is an unsupervised learning algorithm, and so we don't need to specify a target variable ($y$) when fitting the model."
      ],
      "metadata": {
        "id": "Tx6KEqxtqbJP"
      }
    },
    {
      "cell_type": "code",
      "source": [
        "X = df['text']\n",
        "\n",
        "# Construct a pipeline: TF-IDF -> Sparse to Dense -> Clustering\n",
        "pipeline = make_pipeline(\n",
        "    TfidfVectorizer(stop_words='english'),\n",
        "    FunctionTransformer(lambda x: x.todense(), accept_sparse=True),\n",
        "    AgglomerativeClustering(linkage='average')  # Use average linkage\n",
        ")\n",
        "\n",
        "pipeline = pipeline.fit(X)"
      ],
      "metadata": {
        "colab": {
          "base_uri": "https://localhost:8080/"
        },
        "id": "9Tg3uekiqQZq",
        "outputId": "2d38701f-cb1a-4fc4-cb8b-33181da649cf"
      },
      "execution_count": 17,
      "outputs": [
        {
          "output_type": "stream",
          "name": "stderr",
          "text": [
            "/usr/local/lib/python3.8/dist-packages/sklearn/utils/validation.py:593: FutureWarning: np.matrix usage is deprecated in 1.0 and will raise a TypeError in 1.2. Please convert to a numpy array with np.asarray. For more information see: https://numpy.org/doc/stable/reference/generated/numpy.matrix.html\n",
            "  warnings.warn(\n"
          ]
        }
      ]
    },
    {
      "cell_type": "markdown",
      "source": [
        "Once we've fitted the data to the pipeline, we can extract the fitted agglomerative clustering model to see what clusters were formed. To extract the model, we can use the named_steps attribute of the pipeline, which is a dictionary mapping the names (in lowercase) of each stage in the pipeline to the corresponding models."
      ],
      "metadata": {
        "id": "8xUFYkvhrXym"
      }
    },
    {
      "cell_type": "code",
      "source": [
        "pipeline.named_steps"
      ],
      "metadata": {
        "colab": {
          "base_uri": "https://localhost:8080/"
        },
        "id": "yO3nw9fUrT8f",
        "outputId": "d75eae58-720a-4c8a-d35f-e1a017488f39"
      },
      "execution_count": 18,
      "outputs": [
        {
          "output_type": "execute_result",
          "data": {
            "text/plain": [
              "{'tfidfvectorizer': TfidfVectorizer(stop_words='english'),\n",
              " 'functiontransformer': FunctionTransformer(accept_sparse=True,\n",
              "                     func=<function <lambda> at 0x7fae2d92bca0>),\n",
              " 'agglomerativeclustering': AgglomerativeClustering(linkage='average')}"
            ]
          },
          "metadata": {},
          "execution_count": 18
        }
      ]
    },
    {
      "cell_type": "markdown",
      "source": [
        "As can be seen, our clustering model is stored under the key `'agglomerativeclustering'`, and so we can extract it as follows:"
      ],
      "metadata": {
        "id": "oJKj0CnPrtF7"
      }
    },
    {
      "cell_type": "code",
      "source": [
        "model = pipeline.named_steps['agglomerativeclustering']"
      ],
      "metadata": {
        "id": "uJ4RUCITrqoq"
      },
      "execution_count": 19,
      "outputs": []
    },
    {
      "cell_type": "markdown",
      "source": [
        "Currently, `scikit-learn` does not support plotting dendrograms out of the box. However, the authors have provided the following code snippet for anyone who wants to do so:"
      ],
      "metadata": {
        "id": "iSi1UsQ2r4s1"
      }
    },
    {
      "cell_type": "code",
      "source": [
        "# Original source: https://github.com/scikit-learn/scikit-learn/blob/70cf4a676caa2d2dad2e3f6e4478d64bcb0506f7/examples/cluster/plot_hierarchical_clustering_dendrogram.py\n",
        "import numpy as np\n",
        "\n",
        "from scipy.cluster.hierarchy import dendrogram\n",
        "\n",
        "\n",
        "def plot_dendrogram(model, **kwargs):\n",
        "    # Children of hierarchical clustering\n",
        "    children = model.children_\n",
        "\n",
        "    # Distances between each pair of children\n",
        "    # Since we don't have this information, we can use a uniform one for plotting\n",
        "    distance = np.arange(children.shape[0])\n",
        "\n",
        "    # The number of observations contained in each cluster level\n",
        "    no_of_observations = np.arange(2, children.shape[0] + 2)\n",
        "\n",
        "    # Create linkage matrix and then plot the dendrogram\n",
        "    linkage_matrix = np.column_stack([children, distance, no_of_observations]).astype(float)\n",
        "\n",
        "    # Plot the corresponding dendrogram\n",
        "    dendrogram(linkage_matrix, **kwargs)"
      ],
      "metadata": {
        "id": "F5Tc5zS4r0m7"
      },
      "execution_count": 21,
      "outputs": []
    },
    {
      "cell_type": "markdown",
      "source": [
        "Finally, we can call the `plot_dendrogram` function to plot a dendrogram of our model, as follows:"
      ],
      "metadata": {
        "id": "y0vLW6DPr_bw"
      }
    },
    {
      "cell_type": "code",
      "source": [
        "plot_dendrogram(model, labels=X.index, orientation='right')"
      ],
      "metadata": {
        "colab": {
          "base_uri": "https://localhost:8080/",
          "height": 265
        },
        "id": "KMtdrxz-r8-3",
        "outputId": "9e7a287a-76ee-4fa6-f6f8-8c25f430b61a"
      },
      "execution_count": 22,
      "outputs": [
        {
          "output_type": "display_data",
          "data": {
            "text/plain": [
              "<Figure size 432x288 with 1 Axes>"
            ],
            "image/png": "[encoded data removed]"
          },
          "metadata": {
            "needs_background": "light"
          }
        }
      ]
    },
    {
      "cell_type": "markdown",
      "source": [
        "As can be seen, clustering by TF-IDF score vectors results in texts written by the same author or at roughly the same point in time being grouped together. This makes sense when you consider that TF-IDF scores represent the frequency of use of certain terms, which may be indicative of an individual author's style or the style of writing at a certain point in history."
      ],
      "metadata": {
        "id": "yGRT3cdKsBhD"
      }
    },
    {
      "cell_type": "code",
      "source": [],
      "metadata": {
        "id": "-9k9wCwusChK"
      },
      "execution_count": null,
      "outputs": []
    }
  ]
}