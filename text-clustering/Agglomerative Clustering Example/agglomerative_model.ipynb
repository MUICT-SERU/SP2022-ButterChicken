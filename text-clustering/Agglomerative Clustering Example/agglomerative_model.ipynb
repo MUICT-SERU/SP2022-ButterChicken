{
  "cells": [
    {
      "cell_type": "code",
      "execution_count": null,
      "metadata": {
        "colab": {
          "base_uri": "https://localhost:8080/"
        },
        "id": "6WCu62dnloqg",
        "outputId": "517b0979-e36c-417d-f041-a20baee5d817"
      },
      "outputs": [],
      "source": [
        "# Skip if not run in Google Colab\n",
        "\n",
        "from google.colab import drive\n",
        "\n",
        "drive.mount('/content/gdrive/', force_remount=True)"
      ]
    },
    {
      "cell_type": "markdown",
      "metadata": {
        "id": "8GBvQBio9mZ6"
      },
      "source": [
        "# Text preprocessing\n"
      ]
    },
    {
      "cell_type": "markdown",
      "metadata": {
        "id": "0UCQU_4yRkEY"
      },
      "source": [
        "## Import module"
      ]
    },
    {
      "cell_type": "code",
      "execution_count": 1,
      "metadata": {
        "colab": {
          "base_uri": "https://localhost:8080/"
        },
        "id": "28xQc1iK7j04",
        "outputId": "40faaffa-8de7-4528-b238-1bf745d7c48c"
      },
      "outputs": [
        {
          "name": "stderr",
          "output_type": "stream",
          "text": [
            "[nltk_data] Downloading package stopwords to\n",
            "[nltk_data]     C:\\Users\\Veera\\AppData\\Roaming\\nltk_data...\n",
            "[nltk_data]   Package stopwords is already up-to-date!\n"
          ]
        }
      ],
      "source": [
        "import pandas as pd\n",
        "import string\n",
        "import re\n",
        "# import NLP lib and its stopwords module\n",
        "import nltk\n",
        "nltk.download('stopwords')\n",
        "stopwords = nltk.corpus.stopwords.words('english')\n",
        "# stopwords[10:20]"
      ]
    },
    {
      "cell_type": "markdown",
      "metadata": {
        "id": "mcCaFxfURW8H"
      },
      "source": [
        "## Import data"
      ]
    },
    {
      "cell_type": "markdown",
      "metadata": {
        "id": "d6ZUVSa2VmGL"
      },
      "source": [
        "Below is an example data"
      ]
    },
    {
      "cell_type": "code",
      "execution_count": 2,
      "metadata": {
        "colab": {
          "base_uri": "https://localhost:8080/"
        },
        "id": "386-k_Jc98oL",
        "outputId": "545a0de1-828e-4730-c2d7-47d1b1587741"
      },
      "outputs": [
        {
          "data": {
            "text/plain": [
              "0      ## General information\\n\\nIn this kernel I wor...\n",
              "1                                    Importing libraries\n",
              "2      ## Functions used in this kernel\\nThey are in ...\n",
              "3      ## Data loading and overview\\n\\nData is separa...\n",
              "4      So we have two medium-sized datasets with a lo...\n",
              "                             ...                        \n",
              "119    As expected, the most important features are t...\n",
              "120    We see that all four of our hand-engineered fe...\n",
              "121    This submission should score about 0.735 on th...\n",
              "122    Again, we see tha some of our features made it...\n",
              "123    This model scores about 0.754 when submitted t...\n",
              "Name: markdown, Length: 124, dtype: object"
            ]
          },
          "execution_count": 2,
          "metadata": {},
          "output_type": "execute_result"
        }
      ],
      "source": [
        "# Example data\n",
        "df = pd.read_excel('./notebooks data/notebooks-data.xlsx')\n",
        "df = df.drop(columns='Notebook').rename(columns={\"Markdown content\": \"markdown\"})\n",
        "df['markdown']"
      ]
    },
    {
      "cell_type": "markdown",
      "metadata": {
        "id": "AcOhs2BIVoo3"
      },
      "source": [
        "## Preprocessing function\n",
        "\n",
        "1. Preprocess text - Lowercase text, remove any punctuation, and remove newline\n",
        "2. Remove hyperlink - Remove hyperlinks\n",
        "3. Remove tags - Remove HTML tags in the text\n",
        "4. Remove stopwords - Remove stopwords in English langauge from the text\n",
        "5. Tokenization - Tokenize the text into a list of words"
      ]
    },
    {
      "cell_type": "code",
      "execution_count": 3,
      "metadata": {
        "id": "09wQVdEiRrKa"
      },
      "outputs": [],
      "source": [
        "def preprocess_text(text):\n",
        "  text = text.lower() # lowercase the text\n",
        "  text = re.sub(f\"[{re.escape(string.punctuation)}]\", \" \", text).strip() # replace punctuation with ' '(space)\n",
        "  text = \" \".join(text.split()) # remove the excess spaces and newlines\n",
        "  return text\n",
        "\n",
        "def remove_hyperlink(text):\n",
        "  text = re.sub(r'https?://\\S+', \"\", text)\n",
        "  text = \" \".join(re.sub(r'https?://\\S+', \"\", text).split())\n",
        "  return text\n",
        "\n",
        "def remove_tags(text):\n",
        "  return re.sub(r\"<.*?>\", \" \", text)\n",
        "\n",
        "def remove_stopwords(text):\n",
        "  output = \"\".join([i for i in text if i not in stopwords])\n",
        "  return output\n",
        "  \n",
        "def tokenization(text):\n",
        "  return re.split('W+', text)"
      ]
    },
    {
      "cell_type": "markdown",
      "metadata": {
        "id": "Ar-EMdogWIGa"
      },
      "source": [
        "6. Stemming"
      ]
    },
    {
      "cell_type": "code",
      "execution_count": 4,
      "metadata": {
        "id": "uFsI4f0PT7fA"
      },
      "outputs": [],
      "source": [
        "# Import for stemming function\n",
        "from nltk.stem.porter import PorterStemmer\n",
        "porter_stemmer = PorterStemmer()\n",
        "\n",
        "def stemming(text):\n",
        "  stemmed_text = \" \".join([porter_stemmer.stem(word) for word in text.split()])\n",
        "  return stemmed_text\n"
      ]
    },
    {
      "cell_type": "markdown",
      "metadata": {
        "id": "s6Hjyk2fWh6C"
      },
      "source": [
        "7. Lemmatization"
      ]
    },
    {
      "cell_type": "code",
      "execution_count": 5,
      "metadata": {
        "colab": {
          "base_uri": "https://localhost:8080/"
        },
        "id": "WfilW0vPhdxd",
        "outputId": "b0d3457a-3e01-4823-a6db-aa187e88752c"
      },
      "outputs": [
        {
          "name": "stderr",
          "output_type": "stream",
          "text": [
            "[nltk_data] Downloading package omw-1.4 to\n",
            "[nltk_data]     C:\\Users\\Veera\\AppData\\Roaming\\nltk_data...\n",
            "[nltk_data]   Package omw-1.4 is already up-to-date!\n",
            "[nltk_data] Downloading package wordnet to\n",
            "[nltk_data]     C:\\Users\\Veera\\AppData\\Roaming\\nltk_data...\n",
            "[nltk_data]   Package wordnet is already up-to-date!\n"
          ]
        }
      ],
      "source": [
        "# Import for NLTK modules\n",
        "from nltk.stem import WordNetLemmatizer\n",
        "from nltk import pos_tag, word_tokenize\n",
        "nltk.download('omw-1.4')\n",
        "nltk.download('wordnet')\n",
        "wordnet_lemmatizer = WordNetLemmatizer()\n",
        "\n",
        "def lemmatizer(text, type='nltk'):\n",
        "  lemmatized_text = \" \".join([wordnet_lemmatizer.lemmatize(word) for word in text.split()])\n",
        "  return lemmatized_text\n"
      ]
    },
    {
      "attachments": {},
      "cell_type": "markdown",
      "metadata": {},
      "source": [
        "Uncomment below to use spaCy lemmatization module"
      ]
    },
    {
      "cell_type": "code",
      "execution_count": 9,
      "metadata": {
        "id": "WVFhWHwEWiLf"
      },
      "outputs": [],
      "source": [
        "# # Import for spaCy modules\n",
        "# ## Install spaCy (run in terminal/prompt)\n",
        "# import sys\n",
        "# !{sys.executable} -m pip install spacy\n",
        "# ## Download spaCy's  'en' Model\n",
        "# !{sys.executable} -m spacy download en\n",
        "\n",
        "# ## Import spaCy\n",
        "# import spacy\n",
        "# spacy_nlp = spacy.load('en_core_web_sm', disable=['parser', 'ner'])\n",
        "\n",
        "# def lemmatizer_spacy(text):\n",
        "#   spacy_doc = spacy_nlp(text)\n",
        "#   lemmatized_text = \" \".join([token.lemma_ for token in spacy_doc])\n",
        "#   return lemmatized_text"
      ]
    },
    {
      "cell_type": "code",
      "execution_count": 6,
      "metadata": {
        "colab": {
          "base_uri": "https://localhost:8080/"
        },
        "id": "-QJxltVuf5Xe",
        "outputId": "11c5ba1b-6ffb-4dc3-e7eb-40b49d6119f9"
      },
      "outputs": [
        {
          "data": {
            "text/plain": [
              "0      gener inform in thi kernel i work with ieee fr...\n",
              "1                                         import librari\n",
              "2      function use in thi kernel they are in the hid...\n",
              "3      data load and overview data is separ into two ...\n",
              "4      so we have two medium size dataset with a lot ...\n",
              "                             ...                        \n",
              "119    a expect the most import featur are those deal...\n",
              "120    we see that all four of our hand engin featur ...\n",
              "121    thi submiss should score about 0 735 on the le...\n",
              "122    again we see tha some of our featur made it in...\n",
              "123    thi model score about 0 754 when submit to the...\n",
              "Name: preprocessed_text, Length: 124, dtype: object"
            ]
          },
          "execution_count": 6,
          "metadata": {},
          "output_type": "execute_result"
        }
      ],
      "source": [
        "# Assign preprocesssed data to DataFrame\n",
        "\n",
        "df['preprocessed_text'] = df['markdown'].map(remove_tags).map(remove_hyperlink).map(preprocess_text).map(tokenization).map(remove_stopwords).map(stemming).map(lemmatizer) \n",
        "df['preprocessed_text']"
      ]
    },
    {
      "cell_type": "markdown",
      "metadata": {
        "id": "zi0x_O7xkCxw"
      },
      "source": [
        "# AgglomerativeCluster Model"
      ]
    },
    {
      "cell_type": "markdown",
      "metadata": {
        "id": "9mhmQuyvkIzD"
      },
      "source": [
        "## Import modules"
      ]
    },
    {
      "cell_type": "code",
      "execution_count": 7,
      "metadata": {
        "id": "rADrOVMhkFrE"
      },
      "outputs": [],
      "source": [
        "%matplotlib inline\n",
        "import sys\n",
        "import pandas as pd\n",
        "import numpy as np\n",
        "# import urllib as urllib2\n",
        "from urllib.request import urlopen\n",
        "\n",
        "from sklearn.cluster import AgglomerativeClustering\n",
        "from sklearn.feature_extraction.text import TfidfVectorizer\n",
        "from sklearn.pipeline import make_pipeline\n",
        "from sklearn.preprocessing import FunctionTransformer"
      ]
    },
    {
      "cell_type": "code",
      "execution_count": 8,
      "metadata": {},
      "outputs": [
        {
          "name": "stdout",
          "output_type": "stream",
          "text": [
            "Requirement already satisfied: mlxtend in c:\\users\\veera\\anaconda3\\lib\\site-packages (0.21.0)\n",
            "Requirement already satisfied: setuptools in c:\\users\\veera\\anaconda3\\lib\\site-packages (from mlxtend) (63.4.1)\n",
            "Requirement already satisfied: matplotlib>=3.0.0 in c:\\users\\veera\\anaconda3\\lib\\site-packages (from mlxtend) (3.5.2)\n",
            "Requirement already satisfied: scikit-learn>=1.0.2 in c:\\users\\veera\\anaconda3\\lib\\site-packages (from mlxtend) (1.0.2)\n",
            "Requirement already satisfied: numpy>=1.16.2 in c:\\users\\veera\\anaconda3\\lib\\site-packages (from mlxtend) (1.21.5)\n",
            "Requirement already satisfied: pandas>=0.24.2 in c:\\users\\veera\\anaconda3\\lib\\site-packages (from mlxtend) (1.4.4)\n",
            "Requirement already satisfied: joblib>=0.13.2 in c:\\users\\veera\\anaconda3\\lib\\site-packages (from mlxtend) (1.1.0)\n",
            "Requirement already satisfied: scipy>=1.2.1 in c:\\users\\veera\\anaconda3\\lib\\site-packages (from mlxtend) (1.9.1)\n",
            "Requirement already satisfied: python-dateutil>=2.7 in c:\\users\\veera\\anaconda3\\lib\\site-packages (from matplotlib>=3.0.0->mlxtend) (2.8.2)\n",
            "Requirement already satisfied: fonttools>=4.22.0 in c:\\users\\veera\\anaconda3\\lib\\site-packages (from matplotlib>=3.0.0->mlxtend) (4.25.0)\n",
            "Requirement already satisfied: pillow>=6.2.0 in c:\\users\\veera\\anaconda3\\lib\\site-packages (from matplotlib>=3.0.0->mlxtend) (9.2.0)\n",
            "Requirement already satisfied: kiwisolver>=1.0.1 in c:\\users\\veera\\anaconda3\\lib\\site-packages (from matplotlib>=3.0.0->mlxtend) (1.4.2)\n",
            "Requirement already satisfied: pyparsing>=2.2.1 in c:\\users\\veera\\anaconda3\\lib\\site-packages (from matplotlib>=3.0.0->mlxtend) (3.0.9)\n",
            "Requirement already satisfied: packaging>=20.0 in c:\\users\\veera\\anaconda3\\lib\\site-packages (from matplotlib>=3.0.0->mlxtend) (21.3)\n",
            "Requirement already satisfied: cycler>=0.10 in c:\\users\\veera\\anaconda3\\lib\\site-packages (from matplotlib>=3.0.0->mlxtend) (0.11.0)\n",
            "Requirement already satisfied: pytz>=2020.1 in c:\\users\\veera\\anaconda3\\lib\\site-packages (from pandas>=0.24.2->mlxtend) (2022.1)\n",
            "Requirement already satisfied: threadpoolctl>=2.0.0 in c:\\users\\veera\\anaconda3\\lib\\site-packages (from scikit-learn>=1.0.2->mlxtend) (2.2.0)\n",
            "Requirement already satisfied: six>=1.5 in c:\\users\\veera\\anaconda3\\lib\\site-packages (from python-dateutil>=2.7->matplotlib>=3.0.0->mlxtend) (1.16.0)\n"
          ]
        }
      ],
      "source": [
        "# Please select whether you use regular Python or Anaconda package management\n",
        "import sys\n",
        "!{sys.executable} -m pip install mlxtend\n",
        "\n",
        "# !conda install --yes --prefix {sys.prefix} numpy\n",
        "\n",
        "# # If the package not found, make sure to enable conda-forge channel \n",
        "# !conda config --add channels conda-forge\n",
        "# !conda config --set channel_priority strict\n",
        "\n",
        "from mlxtend.preprocessing import DenseTransformer\n"
      ]
    },
    {
      "attachments": {},
      "cell_type": "markdown",
      "metadata": {},
      "source": [
        "## Building model"
      ]
    },
    {
      "cell_type": "code",
      "execution_count": 9,
      "metadata": {},
      "outputs": [],
      "source": [
        "\n",
        "def densedVectorizing(series: pd.Series(dtype=str)):\n",
        "    \"\"\"\n",
        "    Vectorize the text data and make them into densed matrix.\n",
        "    \"\"\"\n",
        "    tfidf = TfidfVectorizer()\n",
        "    series_vectorized = tfidf.fit_transform(series)\n",
        "    # transformer = FunctionTransformer(lambda x: x.todense(), accept_sparse=True) # Using FunctionTransformer as densified function\n",
        "    transformer = DenseTransformer() # Using mlxtend DenseTransformer function\n",
        "    return transformer.transform(series_vectorized)"
      ]
    },
    {
      "cell_type": "code",
      "execution_count": 10,
      "metadata": {},
      "outputs": [
        {
          "name": "stdout",
          "output_type": "stream",
          "text": [
            "There are total of 1009 feature(s) in the data\n",
            "and total of 124 observations(number of data).\n"
          ]
        }
      ],
      "source": [
        "vectorized_data = densedVectorizing(df['preprocessed_text'])\n",
        "\n",
        "print('There are total of {} feature(s) in the data\\nand total of {} observations(number of data).'.format(vectorized_data.shape[1], vectorized_data.shape[0]))"
      ]
    },
    {
      "cell_type": "code",
      "execution_count": 30,
      "metadata": {
        "colab": {
          "base_uri": "https://localhost:8080/"
        },
        "id": "R3sYfSQjkK81",
        "outputId": "2cb238d5-aaa8-4f80-c929-49d1aa02bd06"
      },
      "outputs": [],
      "source": [
        "# Construct a pipeline: TF-IDF -> Sparse to Dense -> Clustering\n",
        "pipeline = make_pipeline(\n",
        "    TfidfVectorizer(stop_words='english'),\n",
        "    # FunctionTransformer(lambda x: x.todense(), accept_sparse=True), # Using FunctionTransformer as densified function\n",
        "    DenseTransformer(), # Using mlxtend DenseTransformer function\n",
        "    AgglomerativeClustering(n_clusters=10, linkage='ward')  # Use average linkage\n",
        "    # AgglomerativeClustering()\n",
        ")\n",
        "\n",
        "pipeline = pipeline.fit(df['preprocessed_text'])"
      ]
    },
    {
      "cell_type": "code",
      "execution_count": 31,
      "metadata": {
        "colab": {
          "base_uri": "https://localhost:8080/"
        },
        "id": "C8dKvVkNsfr5",
        "outputId": "f86f583d-ced5-4a09-f1e0-f6c3d1c84e12"
      },
      "outputs": [
        {
          "data": {
            "text/plain": [
              "{'tfidfvectorizer': TfidfVectorizer(stop_words='english'),\n",
              " 'densetransformer': DenseTransformer(),\n",
              " 'agglomerativeclustering': AgglomerativeClustering(n_clusters=10)}"
            ]
          },
          "execution_count": 31,
          "metadata": {},
          "output_type": "execute_result"
        }
      ],
      "source": [
        "pipeline.named_steps"
      ]
    },
    {
      "cell_type": "code",
      "execution_count": 32,
      "metadata": {
        "id": "akWQFRDls09Y"
      },
      "outputs": [],
      "source": [
        "model = pipeline.named_steps['agglomerativeclustering']"
      ]
    },
    {
      "attachments": {},
      "cell_type": "markdown",
      "metadata": {},
      "source": [
        "## Assign the data to cluster\n",
        "\n",
        "Using `fit_predict` method of the model to cluster the data, then append them to DataFrame along with their corresponding text data. "
      ]
    },
    {
      "cell_type": "code",
      "execution_count": 33,
      "metadata": {
        "colab": {
          "base_uri": "https://localhost:8080/",
          "height": 380
        },
        "id": "8Ml6wjHZDyjY",
        "outputId": "2563b9f9-63fc-4690-a0a1-51a3f26d209e"
      },
      "outputs": [
        {
          "name": "stdout",
          "output_type": "stream",
          "text": [
            "  cluster-assignment                                          text-data\n",
            "0                  1  gener inform in thi kernel i work with ieee fr...\n",
            "1                  1                                     import librari\n",
            "2                  1  function use in thi kernel they are in the hid...\n",
            "3                  1  data load and overview data is separ into two ...\n",
            "4                  0  so we have two medium size dataset with a lot ...\n"
          ]
        }
      ],
      "source": [
        "clustered_data = model.fit_predict(densedVectorizing(df['preprocessed_text']))\n",
        "mapped = np.column_stack((model.labels_, df['preprocessed_text']))\n",
        "\n",
        "cluster_df = pd.DataFrame(mapped).rename(columns={0: 'cluster-assignment', 1: 'text-data'})\n",
        "print(cluster_df.head())\n",
        "cluster_df.to_csv('output-cluster.csv', index=False, )"
      ]
    },
    {
      "cell_type": "markdown",
      "metadata": {
        "id": "Z1Z28ymis3mJ"
      },
      "source": [
        "## Visualization the Dendogram with SciPy"
      ]
    },
    {
      "cell_type": "code",
      "execution_count": 26,
      "metadata": {
        "id": "qi3N5mpV3MdS"
      },
      "outputs": [],
      "source": [
        "# Original source: https://github.com/scikit-learn/scikit-learn/blob/70cf4a676caa2d2dad2e3f6e4478d64bcb0506f7/examples/cluster/plot_hierarchical_clustering_dendrogram.py\n",
        "# import matplotlib as mpl\n",
        "# mpl.use('Agg')\n",
        "import matplotlib.pyplot as plt\n",
        "from matplotlib.pyplot import show\n",
        "import numpy as np\n",
        "from scipy.cluster.hierarchy import dendrogram, linkage\n"
      ]
    },
    {
      "cell_type": "code",
      "execution_count": 27,
      "metadata": {
        "id": "2Tn5rP7Fs-HU"
      },
      "outputs": [],
      "source": [
        "# Implicit interface dendogram function\n",
        "\n",
        "def plot_dendrogram(model, **kwargs):\n",
        "  # Children of hierarchical clustering\n",
        "  children = model.children_\n",
        "\n",
        "  # Distances between each pair of children\n",
        "  # Since we don't have this information, we can use a uniform one for plotting\n",
        "  distance = np.arange(children.shape[0])\n",
        "\n",
        "  # The number of observations contained in each cluster level\n",
        "  no_of_observations = np.arange(2, children.shape[0] + 2)\n",
        "\n",
        "  # Create linkage matrix and then plot the dendrogram\n",
        "  linkage_matrix = np.column_stack([children, distance, no_of_observations]).astype(float)\n",
        "\n",
        "  # Plot the corresponding dendrogram\n",
        "  dendrogram(linkage_matrix, leaf_rotation=90, leaf_font_size=8, orientation=\"left\", **kwargs)\n",
        "  # , labels=df.index\n",
        "  show()"
      ]
    },
    {
      "cell_type": "code",
      "execution_count": 28,
      "metadata": {
        "colab": {
          "base_uri": "https://localhost:8080/",
          "height": 268
        },
        "id": "h7A2Vq1JtGbW",
        "outputId": "432f684a-1ba0-4edf-a3ff-32af5255e965"
      },
      "outputs": [
        {
          "data": {
            "image/png": "[encoded data removed]",
            "text/plain": [
              "<Figure size 640x480 with 1 Axes>"
            ]
          },
          "metadata": {},
          "output_type": "display_data"
        }
      ],
      "source": [
        "plot_dendrogram(model, labels=df['preprocessed_text'].index)"
      ]
    },
    {
      "cell_type": "code",
      "execution_count": 29,
      "metadata": {
        "id": "V6qNbjnMtIBS"
      },
      "outputs": [],
      "source": [
        "# Create my own figure\n",
        "def plot_dendrogram_mpl(model, **kwargs):\n",
        "  children = model.children_\n",
        "  distance = np.arange(children.shape[0])\n",
        "  no_of_observations = np.arange(2, children.shape[0] + 2)\n",
        "\n",
        "  linkage_matrix = np.column_stack([children, distance, no_of_observations]).astype(float)\n",
        "\n",
        "  fig = plt.figure(figsize=(20, 10))\n",
        "  ax = fig.add_subplot(1, 1, 1)\n",
        "  dendrogram(linkage_matrix, ax=ax)\n",
        "  ax.tick_params(axis='x', which='major', labelsize=8)\n",
        "  ax.tick_params(axis='y', which='major', labelsize=8)  \n",
        "  # fig.savefig('output-cluster.png')\n",
        "  show()"
      ]
    },
    {
      "cell_type": "code",
      "execution_count": 30,
      "metadata": {
        "colab": {
          "base_uri": "https://localhost:8080/",
          "height": 597
        },
        "id": "Tka45lLn_CUC",
        "outputId": "5e1a579a-9338-4f00-83a8-a90619b7dd2b"
      },
      "outputs": [
        {
          "data": {
            "image/png": "[encoded data removed]",
            "text/plain": [
              "<Figure size 2000x1000 with 1 Axes>"
            ]
          },
          "metadata": {},
          "output_type": "display_data"
        }
      ],
      "source": [
        "plot_dendrogram_mpl(model, labels=df['preprocessed_text'].index)"
      ]
    },
    {
      "cell_type": "code",
      "execution_count": null,
      "metadata": {
        "colab": {
          "base_uri": "https://localhost:8080/"
        },
        "id": "jtCNfJfL_bbE",
        "outputId": "4dcb35f3-ca97-499d-adb4-9a3d68ac8a19"
      },
      "outputs": [],
      "source": [
        "model.labels_"
      ]
    }
  ],
  "metadata": {
    "colab": {
      "provenance": []
    },
    "kernelspec": {
      "display_name": "base",
      "language": "python",
      "name": "python3"
    },
    "language_info": {
      "codemirror_mode": {
        "name": "ipython",
        "version": 3
      },
      "file_extension": ".py",
      "mimetype": "text/x-python",
      "name": "python",
      "nbconvert_exporter": "python",
      "pygments_lexer": "ipython3",
      "version": "3.9.13"
    },
    "vscode": {
      "interpreter": {
        "hash": "3983b63cc3b348d650216c923de9574c04b3eff8703beaf2ccca280b91752965"
      }
    }
  },
  "nbformat": 4,
  "nbformat_minor": 0
}
