{
  "nbformat": 4,
  "nbformat_minor": 0,
  "metadata": {
    "colab": {
      "provenance": []
    },
    "kernelspec": {
      "name": "python3",
      "display_name": "Python 3"
    },
    "language_info": {
      "name": "python"
    }
  },
  "cells": [
    {
      "cell_type": "code",
      "execution_count": 2,
      "metadata": {
        "colab": {
          "base_uri": "https://localhost:8080/"
        },
        "id": "6WCu62dnloqg",
        "outputId": "119db54d-4825-4dc8-e636-fd055fa4e8a4"
      },
      "outputs": [
        {
          "output_type": "stream",
          "name": "stdout",
          "text": [
            "Mounted at /content/gdrive/\n"
          ]
        }
      ],
      "source": [
        "from google.colab import drive\n",
        "\n",
        "drive.mount('/content/gdrive/', force_remount=True)"
      ]
    },
    {
      "cell_type": "markdown",
      "source": [
        "# Text preprocessing\n"
      ],
      "metadata": {
        "id": "8GBvQBio9mZ6"
      }
    },
    {
      "cell_type": "markdown",
      "source": [
        "## Import module"
      ],
      "metadata": {
        "id": "0UCQU_4yRkEY"
      }
    },
    {
      "cell_type": "code",
      "source": [
        "import pandas as pd\n",
        "import string\n",
        "import re\n",
        "# import NLP lib and its stopwords module\n",
        "import nltk\n",
        "nltk.download('stopwords')\n",
        "stopwords = nltk.corpus.stopwords.words('english')\n",
        "stopwords[10:20]"
      ],
      "metadata": {
        "colab": {
          "base_uri": "https://localhost:8080/"
        },
        "id": "28xQc1iK7j04",
        "outputId": "64bb3f38-78cd-486d-efeb-1a9d001d031f"
      },
      "execution_count": 3,
      "outputs": [
        {
          "output_type": "stream",
          "name": "stderr",
          "text": [
            "[nltk_data] Downloading package stopwords to /root/nltk_data...\n",
            "[nltk_data]   Unzipping corpora/stopwords.zip.\n"
          ]
        },
        {
          "output_type": "execute_result",
          "data": {
            "text/plain": [
              "[\"you've\",\n",
              " \"you'll\",\n",
              " \"you'd\",\n",
              " 'your',\n",
              " 'yours',\n",
              " 'yourself',\n",
              " 'yourselves',\n",
              " 'he',\n",
              " 'him',\n",
              " 'his']"
            ]
          },
          "metadata": {},
          "execution_count": 3
        }
      ]
    },
    {
      "cell_type": "markdown",
      "source": [
        "## Import data"
      ],
      "metadata": {
        "id": "mcCaFxfURW8H"
      }
    },
    {
      "cell_type": "markdown",
      "source": [
        "Below is an example data"
      ],
      "metadata": {
        "id": "d6ZUVSa2VmGL"
      }
    },
    {
      "cell_type": "code",
      "source": [
        "# Example data\n",
        "df = pd.read_excel('gdrive/MyDrive/Colab Notebooks/senior/agglomerative clustering example/notebooks-data.xlsx')\n",
        "df = df.drop(columns='Notebook').rename(columns={\"Markdown content\": \"markdown\"})\n",
        "df['markdown']"
      ],
      "metadata": {
        "colab": {
          "base_uri": "https://localhost:8080/"
        },
        "id": "386-k_Jc98oL",
        "outputId": "8028ee5b-e46e-4c84-8027-8cf0e7aeeed1"
      },
      "execution_count": 4,
      "outputs": [
        {
          "output_type": "execute_result",
          "data": {
            "text/plain": [
              "0      ## General information\\n\\nIn this kernel I wor...\n",
              "1                                    Importing libraries\n",
              "2      ## Functions used in this kernel\\nThey are in ...\n",
              "3      ## Data loading and overview\\n\\nData is separa...\n",
              "4      So we have two medium-sized datasets with a lo...\n",
              "                             ...                        \n",
              "119    As expected, the most important features are t...\n",
              "120    We see that all four of our hand-engineered fe...\n",
              "121    This submission should score about 0.735 on th...\n",
              "122    Again, we see tha some of our features made it...\n",
              "123    This model scores about 0.754 when submitted t...\n",
              "Name: markdown, Length: 124, dtype: object"
            ]
          },
          "metadata": {},
          "execution_count": 4
        }
      ]
    },
    {
      "cell_type": "markdown",
      "source": [
        "## Preprocessing function\n",
        "\n",
        "1. Preprocess text - Lowercase text, remove any punctuation, and remove newline\n",
        "2. Remove hyperlink - Remove hyperlinks\n",
        "3. Remove tags - Remove HTML tags in the text\n",
        "4. Remove stopwords - Remove stopwords in English langauge from the text\n",
        "5. Tokenization - Tokenize the text into a list of words"
      ],
      "metadata": {
        "id": "AcOhs2BIVoo3"
      }
    },
    {
      "cell_type": "code",
      "source": [
        "def preprocess_text(text):\n",
        "  text = text.lower() # lowercase the text\n",
        "  text = re.sub(f\"[{re.escape(string.punctuation)}]\", \" \", text).strip() # replace punctuation with ' '(space)\n",
        "  text = \" \".join(text.split()) # remove the excess spaces and newlines\n",
        "  return text\n",
        "\n",
        "def remove_hyperlink(text):\n",
        "  text = re.sub(r'https?://\\S+', \"\", text)\n",
        "  text = \" \".join(re.sub(r'https?://\\S+', \"\", text).split())\n",
        "  return text\n",
        "\n",
        "def remove_tags(text):\n",
        "  return re.sub(r\"<.*?>\", \" \", text)\n",
        "\n",
        "def remove_stopwords(text):\n",
        "  output = \"\".join([i for i in text if i not in stopwords])\n",
        "  return output\n",
        "  \n",
        "def tokenization(text):\n",
        "  return re.split('W+', text)"
      ],
      "metadata": {
        "id": "09wQVdEiRrKa"
      },
      "execution_count": 5,
      "outputs": []
    },
    {
      "cell_type": "code",
      "source": [
        "df['preprocessed_text'] = df['markdown'].map(remove_tags).map(remove_hyperlink).map(preprocess_text).map(tokenization).map(remove_stopwords)\n",
        "df['preprocessed_text']"
      ],
      "metadata": {
        "colab": {
          "base_uri": "https://localhost:8080/"
        },
        "id": "PBJaqqrqSrk9",
        "outputId": "47124e1e-5d03-423c-ce2b-3bde5adf7f47"
      },
      "execution_count": 6,
      "outputs": [
        {
          "output_type": "execute_result",
          "data": {
            "text/plain": [
              "0      general information in this kernel i work with...\n",
              "1                                    importing libraries\n",
              "2      functions used in this kernel they are in the ...\n",
              "3      data loading and overview data is separated in...\n",
              "4      so we have two medium sized datasets with a lo...\n",
              "                             ...                        \n",
              "119    as expected the most important features are th...\n",
              "120    we see that all four of our hand engineered fe...\n",
              "121    this submission should score about 0 735 on th...\n",
              "122    again we see tha some of our features made it ...\n",
              "123    this model scores about 0 754 when submitted t...\n",
              "Name: preprocessed_text, Length: 124, dtype: object"
            ]
          },
          "metadata": {},
          "execution_count": 6
        }
      ]
    },
    {
      "cell_type": "markdown",
      "source": [
        "6. Stemming"
      ],
      "metadata": {
        "id": "Ar-EMdogWIGa"
      }
    },
    {
      "cell_type": "code",
      "source": [
        "# Import for stemming function\n",
        "from nltk.stem.porter import PorterStemmer\n",
        "porter_stemmer = PorterStemmer()\n",
        "\n",
        "def stemming(text):\n",
        "  stemmed_text = \" \".join([porter_stemmer.stem(word) for word in text.split()])\n",
        "  return stemmed_text\n"
      ],
      "metadata": {
        "id": "uFsI4f0PT7fA"
      },
      "execution_count": 7,
      "outputs": []
    },
    {
      "cell_type": "code",
      "source": [
        "porter_stemmer.stem('this')"
      ],
      "metadata": {
        "colab": {
          "base_uri": "https://localhost:8080/",
          "height": 35
        },
        "id": "oQEsfSOHZakd",
        "outputId": "8e814d88-05ec-48c3-ca22-df4e75608602"
      },
      "execution_count": 8,
      "outputs": [
        {
          "output_type": "execute_result",
          "data": {
            "text/plain": [
              "'thi'"
            ],
            "application/vnd.google.colaboratory.intrinsic+json": {
              "type": "string"
            }
          },
          "metadata": {},
          "execution_count": 8
        }
      ]
    },
    {
      "cell_type": "markdown",
      "source": [
        "7. Lemmatization"
      ],
      "metadata": {
        "id": "s6Hjyk2fWh6C"
      }
    },
    {
      "cell_type": "code",
      "source": [
        "# Import for NLTK modules\n",
        "from nltk.stem import WordNetLemmatizer\n",
        "from nltk import pos_tag, word_tokenize\n",
        "nltk.download('omw-1.4')\n",
        "nltk.download('wordnet')\n",
        "wordnet_lemmatizer = WordNetLemmatizer()\n",
        "\n",
        "# Import for spaCy modules\n",
        "## Install spaCy (run in terminal/prompt)\n",
        "import sys\n",
        "!{sys.executable} -m pip install spacy\n",
        "## Download spaCy's  'en' Model\n",
        "!{sys.executable} -m spacy download en\n",
        "\n",
        "## Import spaCy\n",
        "import spacy\n",
        "spacy_nlp = spacy.load('en_core_web_sm', disable=['parser', 'ner'])"
      ],
      "metadata": {
        "id": "WfilW0vPhdxd"
      },
      "execution_count": null,
      "outputs": []
    },
    {
      "cell_type": "code",
      "source": [
        "def lemmatizer(text, type='nltk'):\n",
        "  lemmatized_text = \" \".join([wordnet_lemmatizer.lemmatize(word) for word in text.split()])\n",
        "  return lemmatized_text\n",
        "\n",
        "def lemmatizer_spacy(text):\n",
        "  spacy_doc = spacy_nlp(text)\n",
        "  lemmatized_text = \" \".join([token.lemma_ for token in spacy_doc])\n",
        "  return lemmatized_text"
      ],
      "metadata": {
        "id": "WVFhWHwEWiLf"
      },
      "execution_count": 10,
      "outputs": []
    },
    {
      "cell_type": "code",
      "source": [
        "df['preprocessed_text'] = df['markdown'].map(remove_tags).map(remove_hyperlink).map(preprocess_text).map(tokenization).map(remove_stopwords).map(stemming).map(lemmatizer)\n",
        "df['preprocessed_text']"
      ],
      "metadata": {
        "colab": {
          "base_uri": "https://localhost:8080/"
        },
        "id": "-QJxltVuf5Xe",
        "outputId": "7a9b1f78-4a21-498d-fe78-298555043579"
      },
      "execution_count": 16,
      "outputs": [
        {
          "output_type": "execute_result",
          "data": {
            "text/plain": [
              "0      gener inform in thi kernel i work with ieee fr...\n",
              "1                                         import librari\n",
              "2      function use in thi kernel they are in the hid...\n",
              "3      data load and overview data is separ into two ...\n",
              "4      so we have two medium size dataset with a lot ...\n",
              "                             ...                        \n",
              "119    a expect the most import featur are those deal...\n",
              "120    we see that all four of our hand engin featur ...\n",
              "121    thi submiss should score about 0 735 on the le...\n",
              "122    again we see tha some of our featur made it in...\n",
              "123    thi model score about 0 754 when submit to the...\n",
              "Name: preprocessed_text, Length: 124, dtype: object"
            ]
          },
          "metadata": {},
          "execution_count": 16
        }
      ]
    },
    {
      "cell_type": "markdown",
      "source": [
        "# AgglomerativeCluster Model"
      ],
      "metadata": {
        "id": "zi0x_O7xkCxw"
      }
    },
    {
      "cell_type": "markdown",
      "source": [
        "## Import modules"
      ],
      "metadata": {
        "id": "9mhmQuyvkIzD"
      }
    },
    {
      "cell_type": "code",
      "source": [
        "%matplotlib inline\n",
        "import pandas as pd\n",
        "# import urllib as urllib2\n",
        "from urllib.request import urlopen\n",
        "\n",
        "from sklearn.cluster import AgglomerativeClustering\n",
        "from sklearn.feature_extraction.text import TfidfVectorizer\n",
        "from sklearn.pipeline import make_pipeline\n",
        "from sklearn.preprocessing import FunctionTransformer"
      ],
      "metadata": {
        "id": "rADrOVMhkFrE"
      },
      "execution_count": 18,
      "outputs": []
    },
    {
      "cell_type": "code",
      "source": [
        "# Construct a pipeline: TF-IDF -> Sparse to Dense -> Clustering\n",
        "pipeline = make_pipeline(\n",
        "    TfidfVectorizer(stop_words='english'),\n",
        "    FunctionTransformer(lambda x: x.todense(), accept_sparse=True),\n",
        "    AgglomerativeClustering(n_clusters=5, linkage='average')  # Use average linkage\n",
        ")\n",
        "\n",
        "pipeline = pipeline.fit(df['preprocessed_text'])"
      ],
      "metadata": {
        "colab": {
          "base_uri": "https://localhost:8080/"
        },
        "id": "R3sYfSQjkK81",
        "outputId": "c1b38d8a-6f41-480d-dd83-936b9837131d"
      },
      "execution_count": 66,
      "outputs": [
        {
          "output_type": "stream",
          "name": "stderr",
          "text": [
            "/usr/local/lib/python3.8/dist-packages/sklearn/utils/validation.py:593: FutureWarning: np.matrix usage is deprecated in 1.0 and will raise a TypeError in 1.2. Please convert to a numpy array with np.asarray. For more information see: https://numpy.org/doc/stable/reference/generated/numpy.matrix.html\n",
            "  warnings.warn(\n"
          ]
        }
      ]
    },
    {
      "cell_type": "code",
      "source": [
        "pipeline.named_steps"
      ],
      "metadata": {
        "colab": {
          "base_uri": "https://localhost:8080/"
        },
        "id": "C8dKvVkNsfr5",
        "outputId": "0e851304-349d-4d08-902c-59b7f0bec434"
      },
      "execution_count": 20,
      "outputs": [
        {
          "output_type": "execute_result",
          "data": {
            "text/plain": [
              "{'tfidfvectorizer': TfidfVectorizer(stop_words='english'),\n",
              " 'functiontransformer': FunctionTransformer(accept_sparse=True,\n",
              "                     func=<function <lambda> at 0x7f0c4a6e9310>),\n",
              " 'agglomerativeclustering': AgglomerativeClustering(linkage='average')}"
            ]
          },
          "metadata": {},
          "execution_count": 20
        }
      ]
    },
    {
      "cell_type": "code",
      "source": [
        "model = pipeline.named_steps['agglomerativeclustering']"
      ],
      "metadata": {
        "id": "akWQFRDls09Y"
      },
      "execution_count": 67,
      "outputs": []
    },
    {
      "cell_type": "markdown",
      "source": [
        "## Visualization the Dendogram with SciPy"
      ],
      "metadata": {
        "id": "Z1Z28ymis3mJ"
      }
    },
    {
      "cell_type": "code",
      "source": [
        "# Original source: https://github.com/scikit-learn/scikit-learn/blob/70cf4a676caa2d2dad2e3f6e4478d64bcb0506f7/examples/cluster/plot_hierarchical_clustering_dendrogram.py\n",
        "import matplotlib as mpl\n",
        "mpl.use('Agg')\n",
        "import matplotlib.pyplot as plt\n",
        "import numpy as np\n",
        "from scipy.cluster.hierarchy import dendrogram, linkage\n"
      ],
      "metadata": {
        "id": "qi3N5mpV3MdS"
      },
      "execution_count": 33,
      "outputs": []
    },
    {
      "cell_type": "code",
      "source": [
        "# Implicit interface dendogram function\n",
        "\n",
        "def plot_dendrogram(model, **kwargs):\n",
        "  # Children of hierarchical clustering\n",
        "  children = model.children_\n",
        "\n",
        "  # Distances between each pair of children\n",
        "  # Since we don't have this information, we can use a uniform one for plotting\n",
        "  distance = np.arange(children.shape[0])\n",
        "\n",
        "  # The number of observations contained in each cluster level\n",
        "  no_of_observations = np.arange(2, children.shape[0] + 2)\n",
        "\n",
        "  # Create linkage matrix and then plot the dendrogram\n",
        "  linkage_matrix = np.column_stack([children, distance, no_of_observations]).astype(float)\n",
        "\n",
        "  # Plot the corresponding dendrogram\n",
        "  dendrogram(linkage_matrix, leaf_rotation=90, leaf_font_size=8, orientation=\"left\", **kwargs)\n",
        "  # , labels=df.index"
      ],
      "metadata": {
        "id": "2Tn5rP7Fs-HU"
      },
      "execution_count": 35,
      "outputs": []
    },
    {
      "cell_type": "code",
      "source": [
        "plot_dendrogram(model, labels=df['preprocessed_text'].index)"
      ],
      "metadata": {
        "colab": {
          "base_uri": "https://localhost:8080/",
          "height": 268
        },
        "id": "h7A2Vq1JtGbW",
        "outputId": "432f684a-1ba0-4edf-a3ff-32af5255e965"
      },
      "execution_count": 68,
      "outputs": [
        {
          "output_type": "display_data",
          "data": {
            "text/plain": [
              "<Figure size 432x288 with 1 Axes>"
            ],
            "image/png": "[encoded data removed]"
          },
          "metadata": {
            "needs_background": "light"
          }
        }
      ]
    },
    {
      "cell_type": "code",
      "source": [
        "# Create my own figure\n",
        "def plot_dendrogram_mpl(model, **kwargs):\n",
        "  children = model.children_\n",
        "  distance = np.arange(children.shape[0])\n",
        "  no_of_observations = np.arange(2, children.shape[0] + 2)\n",
        "\n",
        "  linkage_matrix = np.column_stack([children, distance, no_of_observations]).astype(float)\n",
        "\n",
        "  fig = plt.figure(figsize=(20, 10))\n",
        "  ax = fig.add_subplot(1, 1, 1)\n",
        "  dendrogram(linkage_matrix, ax=ax)\n",
        "  ax.tick_params(axis='x', which='major', labelsize=8)\n",
        "  ax.tick_params(axis='y', which='major', labelsize=8)  \n",
        "  fig.savefig('t.png')"
      ],
      "metadata": {
        "id": "V6qNbjnMtIBS"
      },
      "execution_count": 62,
      "outputs": []
    },
    {
      "cell_type": "code",
      "source": [
        "plot_dendrogram_mpl(model, labels=df['preprocessed_text'].index)"
      ],
      "metadata": {
        "colab": {
          "base_uri": "https://localhost:8080/",
          "height": 597
        },
        "id": "Tka45lLn_CUC",
        "outputId": "5e1a579a-9338-4f00-83a8-a90619b7dd2b"
      },
      "execution_count": 69,
      "outputs": [
        {
          "output_type": "display_data",
          "data": {
            "text/plain": [
              "<Figure size 1440x720 with 1 Axes>"
            ],
            "image/png": "[encoded data removed]"
          },
          "metadata": {
            "needs_background": "light"
          }
        }
      ]
    },
    {
      "cell_type": "code",
      "source": [
        " model.labels_"
      ],
      "metadata": {
        "colab": {
          "base_uri": "https://localhost:8080/"
        },
        "id": "jtCNfJfL_bbE",
        "outputId": "4dcb35f3-ca97-499d-adb4-9a3d68ac8a19"
      },
      "execution_count": 65,
      "outputs": [
        {
          "output_type": "execute_result",
          "data": {
            "text/plain": [
              "array([1, 1, 1, 1, 1, 1, 1, 1, 1, 1, 1, 1, 1, 1, 1, 1, 1, 0, 0, 1, 1, 1,\n",
              "       1, 1, 1, 1, 1, 1, 1, 1, 1, 1, 1, 1, 1, 1, 1, 1, 1, 1, 1, 1, 1, 1,\n",
              "       1, 1, 1, 1, 1, 1, 1, 1, 1, 1, 1, 1, 1, 1, 1, 1, 1, 1, 1, 1, 1, 1,\n",
              "       1, 1, 1, 1, 1, 1, 1, 1, 1, 1, 1, 1, 1, 1, 1, 1, 1, 1, 1, 1, 1, 1,\n",
              "       1, 1, 1, 1, 1, 1, 1, 1, 1, 1, 1, 1, 1, 1, 1, 1, 1, 1, 1, 1, 1, 1,\n",
              "       1, 1, 1, 1, 1, 1, 1, 1, 1, 1, 1, 1, 1, 1])"
            ]
          },
          "metadata": {},
          "execution_count": 65
        }
      ]
    },
    {
      "cell_type": "code",
      "source": [],
      "metadata": {
        "id": "hQkuje1jDe7m"
      },
      "execution_count": null,
      "outputs": []
    }
  ]
}