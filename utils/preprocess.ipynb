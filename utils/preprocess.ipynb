{
 "cells": [
  {
   "attachments": {},
   "cell_type": "markdown",
   "metadata": {},
   "source": [
    "# Pre-processing functions"
   ]
  },
  {
   "cell_type": "code",
   "execution_count": 1,
   "metadata": {},
   "outputs": [
    {
     "name": "stderr",
     "output_type": "stream",
     "text": [
      "[nltk_data] Downloading package stopwords to\n",
      "[nltk_data]     C:\\Users\\Veera\\AppData\\Roaming\\nltk_data...\n",
      "[nltk_data]   Package stopwords is already up-to-date!\n",
      "[nltk_data] Downloading package omw-1.4 to\n",
      "[nltk_data]     C:\\Users\\Veera\\AppData\\Roaming\\nltk_data...\n",
      "[nltk_data]   Package omw-1.4 is already up-to-date!\n",
      "[nltk_data] Downloading package wordnet to\n",
      "[nltk_data]     C:\\Users\\Veera\\AppData\\Roaming\\nltk_data...\n",
      "[nltk_data]   Package wordnet is already up-to-date!\n",
      "[nltk_data] Downloading package punkt to\n",
      "[nltk_data]     C:\\Users\\Veera\\AppData\\Roaming\\nltk_data...\n",
      "[nltk_data]   Package punkt is already up-to-date!\n"
     ]
    },
    {
     "data": {
      "text/plain": [
       "True"
      ]
     },
     "execution_count": 1,
     "metadata": {},
     "output_type": "execute_result"
    }
   ],
   "source": [
    "import pandas as pd\n",
    "import string\n",
    "import re\n",
    "# import NLP lib and its stopwords module\n",
    "import nltk\n",
    "from nltk.stem.porter import PorterStemmer\n",
    "from nltk.stem import WordNetLemmatizer\n",
    "from nltk import pos_tag, word_tokenize\n",
    "porter_stemmer = PorterStemmer()\n",
    "wordnet_lemmatizer = WordNetLemmatizer()\n",
    "\n",
    "nltk.download('stopwords')\n",
    "stopwords = nltk.corpus.stopwords.words('english')\n",
    "# stopwords[10:20]\n",
    "nltk.download('omw-1.4')\n",
    "nltk.download('wordnet')\n",
    "nltk.download('punkt')"
   ]
  },
  {
   "cell_type": "code",
   "execution_count": 10,
   "metadata": {},
   "outputs": [],
   "source": [
    "def remove_hyperlink(text):\n",
    "  text = re.sub(r'https?://\\S+', \"\", text)\n",
    "  text = \" \".join(re.sub(r'https?://\\S+', \"\", text).split())\n",
    "  return text\n",
    "\n",
    "def remove_tags(text):\n",
    "  return re.sub(r\"<.*?>\", \" \", text)\n",
    "\n",
    "def tokenization(text):\n",
    "  text = text.lower()\n",
    "  text = re.sub(f\"[{re.escape(string.punctuation)}]\", \" \", text).strip() # replace punctuation with ' '(space)\n",
    "  text = \" \".join(text.split()) # remove the excess spaces and newlines\n",
    "  return nltk.word_tokenize(text)\n",
    "\n",
    "def remove_stopwords(tokens):\n",
    "  return [token for token in tokens if token not in stopwords]\n",
    "  \n",
    "def stemming(tokens):\n",
    "  return [porter_stemmer.stem(token) for token in tokens]\n",
    "\n",
    "def lemmatizer(tokens):\n",
    "  return [wordnet_lemmatizer.lemmatize(token) for token in tokens]\n",
    "\n",
    "def full_preprocess(text):\n",
    "  print(text)\n",
    "  preprocessed_text = remove_hyperlink(text)\n",
    "  preprocessed_text = remove_tags(preprocessed_text)\n",
    "  preprocessed_text = tokenization(preprocessed_text)\n",
    "  preprocessed_text = remove_stopwords(preprocessed_text)\n",
    "  preprocessed_text = stemming(preprocessed_text)\n",
    "  preprocessed_text = lemmatizer(preprocessed_text)\n",
    "  return preprocessed_text\n"
   ]
  },
  {
   "cell_type": "code",
   "execution_count": null,
   "metadata": {},
   "outputs": [],
   "source": [
    "df = pd.read_csv('markdown-index.csv')\n",
    "raw_markdown = df['markdown_content']\n",
    "preprocessed_markdown = pd.Series([full_preprocess(md) for md in raw_markdown])\n",
    "preprocessed_markdown"
   ]
  },
  {
   "cell_type": "code",
   "execution_count": 17,
   "metadata": {},
   "outputs": [
    {
     "data": {
      "text/html": [
       "<div>\n",
       "<style scoped>\n",
       "    .dataframe tbody tr th:only-of-type {\n",
       "        vertical-align: middle;\n",
       "    }\n",
       "\n",
       "    .dataframe tbody tr th {\n",
       "        vertical-align: top;\n",
       "    }\n",
       "\n",
       "    .dataframe thead th {\n",
       "        text-align: right;\n",
       "    }\n",
       "</style>\n",
       "<table border=\"1\" class=\"dataframe\">\n",
       "  <thead>\n",
       "    <tr style=\"text-align: right;\">\n",
       "      <th></th>\n",
       "      <th>markdown_content</th>\n",
       "      <th>index_in_notebook</th>\n",
       "      <th>author_name</th>\n",
       "      <th>notebook_title</th>\n",
       "      <th>markdown_key</th>\n",
       "    </tr>\n",
       "  </thead>\n",
       "  <tbody>\n",
       "    <tr>\n",
       "      <th>2708</th>\n",
       "      <td>NaN</td>\n",
       "      <td>33</td>\n",
       "      <td>ashukr</td>\n",
       "      <td>exploration-of-220-columns-1</td>\n",
       "      <td>ashukr_exploration-of-220-columns-1_m33</td>\n",
       "    </tr>\n",
       "    <tr>\n",
       "      <th>2987</th>\n",
       "      <td>NaN</td>\n",
       "      <td>0</td>\n",
       "      <td>frednavruzov</td>\n",
       "      <td>auto-feature-generation-featuretools-example</td>\n",
       "      <td>frednavruzov_auto-feature-generation-featureto...</td>\n",
       "    </tr>\n",
       "    <tr>\n",
       "      <th>3007</th>\n",
       "      <td>NaN</td>\n",
       "      <td>4</td>\n",
       "      <td>ishaan45</td>\n",
       "      <td>thank-you</td>\n",
       "      <td>ishaan45_thank-you_m4</td>\n",
       "    </tr>\n",
       "    <tr>\n",
       "      <th>3098</th>\n",
       "      <td>NaN</td>\n",
       "      <td>0</td>\n",
       "      <td>osciiart</td>\n",
       "      <td>homecreditrisk-extensive-eda-baseline-model-jp</td>\n",
       "      <td>osciiart_homecreditrisk-extensive-eda-baseline...</td>\n",
       "    </tr>\n",
       "    <tr>\n",
       "      <th>3151</th>\n",
       "      <td>NaN</td>\n",
       "      <td>0</td>\n",
       "      <td>scirpus</td>\n",
       "      <td>pure-gp-with-logloss</td>\n",
       "      <td>scirpus_pure-gp-with-logloss_m0</td>\n",
       "    </tr>\n",
       "    <tr>\n",
       "      <th>3152</th>\n",
       "      <td>NaN</td>\n",
       "      <td>0</td>\n",
       "      <td>scirpus</td>\n",
       "      <td>pure-gp-with-mean-squared-error</td>\n",
       "      <td>scirpus_pure-gp-with-mean-squared-error_m0</td>\n",
       "    </tr>\n",
       "    <tr>\n",
       "      <th>3390</th>\n",
       "      <td>NaN</td>\n",
       "      <td>0</td>\n",
       "      <td>sz8416</td>\n",
       "      <td>simple-bayesian-optimization-for-lightgbm</td>\n",
       "      <td>sz8416_simple-bayesian-optimization-for-lightg...</td>\n",
       "    </tr>\n",
       "  </tbody>\n",
       "</table>\n",
       "</div>"
      ],
      "text/plain": [
       "     markdown_content  index_in_notebook   author_name  \\\n",
       "2708              NaN                 33        ashukr   \n",
       "2987              NaN                  0  frednavruzov   \n",
       "3007              NaN                  4      ishaan45   \n",
       "3098              NaN                  0      osciiart   \n",
       "3151              NaN                  0       scirpus   \n",
       "3152              NaN                  0       scirpus   \n",
       "3390              NaN                  0        sz8416   \n",
       "\n",
       "                                      notebook_title  \\\n",
       "2708                    exploration-of-220-columns-1   \n",
       "2987    auto-feature-generation-featuretools-example   \n",
       "3007                                       thank-you   \n",
       "3098  homecreditrisk-extensive-eda-baseline-model-jp   \n",
       "3151                            pure-gp-with-logloss   \n",
       "3152                 pure-gp-with-mean-squared-error   \n",
       "3390       simple-bayesian-optimization-for-lightgbm   \n",
       "\n",
       "                                           markdown_key  \n",
       "2708            ashukr_exploration-of-220-columns-1_m33  \n",
       "2987  frednavruzov_auto-feature-generation-featureto...  \n",
       "3007                              ishaan45_thank-you_m4  \n",
       "3098  osciiart_homecreditrisk-extensive-eda-baseline...  \n",
       "3151                    scirpus_pure-gp-with-logloss_m0  \n",
       "3152         scirpus_pure-gp-with-mean-squared-error_m0  \n",
       "3390  sz8416_simple-bayesian-optimization-for-lightg...  "
      ]
     },
     "execution_count": 17,
     "metadata": {},
     "output_type": "execute_result"
    }
   ],
   "source": [
    "df[df['markdown_content'].isnull()]"
   ]
  },
  {
   "cell_type": "code",
   "execution_count": null,
   "metadata": {},
   "outputs": [],
   "source": [
    "i = 2\n",
    "for md in df['markdown_content']:\n",
    "    print(f'[{i}] : {md}')\n",
    "    a = full_preprocess(md)\n",
    "    i = i + 1\n",
    "\n"
   ]
  },
  {
   "cell_type": "code",
   "execution_count": null,
   "metadata": {},
   "outputs": [],
   "source": []
  }
 ],
 "metadata": {
  "kernelspec": {
   "display_name": "senior-jupyter",
   "language": "python",
   "name": "senior-jupyter"
  },
  "language_info": {
   "codemirror_mode": {
    "name": "ipython",
    "version": 3
   },
   "file_extension": ".py",
   "mimetype": "text/x-python",
   "name": "python",
   "nbconvert_exporter": "python",
   "pygments_lexer": "ipython3",
   "version": "3.10.9 (tags/v3.10.9:1dd9be6, Dec  6 2022, 20:01:21) [MSC v.1934 64 bit (AMD64)]"
  },
  "orig_nbformat": 4,
  "vscode": {
   "interpreter": {
    "hash": "bf5f69b3c1e18f509bc3e5784158a91a8d5962c26b685adcaa8318167674423f"
   }
  }
 },
 "nbformat": 4,
 "nbformat_minor": 2
}
