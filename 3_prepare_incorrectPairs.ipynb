{
 "cells": [
  {
   "cell_type": "code",
   "execution_count": 1,
   "metadata": {},
   "outputs": [],
   "source": [
    "import json\n",
    "ranks = ['grandmaster', 'master', 'expert']\n",
    "\n",
    "with open(\"comparison_result.json\", \"r\") as f:\n",
    "    data = json.load(f)\n",
    "    for rank in ranks:\n",
    "        incorrect_pairs = data[rank]['incorrect_pairs_items']\n",
    "        # print(type(incorrect_pairs))\n",
    "        max = 10\n",
    "        # for i in range(0, max):\n",
    "        #     print(f\"ORIGINAL CODE:\\n{'-'*99}\\n\")\n",
    "        #     print(incorrect_pairs[i]['originalCode'])\n",
    "        #     # print(f\"\\n{'+'*99}\")\n",
    "        #     print(f\"\\nRECOMMENDED CODE:\\n{'-'*99}\\n\")\n",
    "        #     print(incorrect_pairs[i]['bm25Code'])\n",
    "        #     print(f\"\\n{'='*99}\\n{'='*99}\\n\")\n",
    "        with open(f'{rank}_analysis.txt', 'w') as file:\n",
    "            for i in range(0, max):\n",
    "                file.write(f\"ITEM #{i+1}\\n\\n\")\n",
    "                file.write(f\"ORIGINAL MARKDOWN:\\n{'-'*99}\\n\")\n",
    "                file.write(str(incorrect_pairs[i]['originalMarkdown']))\n",
    "                file.write(\"\\n================================================================\\n\")\n",
    "                file.write(\"RECOMMENDED CODE:\\n----------------------------------------------------\\n\")\n",
    "                file.write(str(incorrect_pairs[i]['bm25Code']))\n",
    "                file.write(\"\\n================================================================\\n\")\n",
    "                file.write(\"ORIGINAL CODE:\\n----------------------------------------------------\\n\")\n",
    "                file.write(str(incorrect_pairs[i]['originalCode']))\n",
    "                file.write(\"\\n\" + \"++++++++++++++++++++++++++++++++++++++++++++++++++++++++++++++++++++++++++++++++++++++++++++++++++++++++++++++++++++\\n\"*3 + \"\\n\")\n",
    "                # file.write\n",
    "\n",
    "    "
   ]
  },
  {
   "cell_type": "code",
   "execution_count": null,
   "metadata": {},
   "outputs": [],
   "source": []
  }
 ],
 "metadata": {
  "kernelspec": {
   "display_name": "senior-jupyter",
   "language": "python",
   "name": "python3"
  },
  "language_info": {
   "codemirror_mode": {
    "name": "ipython",
    "version": 3
   },
   "file_extension": ".py",
   "mimetype": "text/x-python",
   "name": "python",
   "nbconvert_exporter": "python",
   "pygments_lexer": "ipython3",
   "version": "3.10.9"
  },
  "orig_nbformat": 4
 },
 "nbformat": 4,
 "nbformat_minor": 2
}
