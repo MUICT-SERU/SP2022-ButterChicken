{
 "cells": [
  {
   "cell_type": "code",
   "execution_count": 7,
   "metadata": {},
   "outputs": [],
   "source": [
    "FILE_NAMES = [\n",
    "    \"grandmaster_result.json\",\n",
    "    \"master_result.json\",\n",
    "    \"expert_result.json\",\n",
    "]\n",
    "\n",
    "# ORIGINAL_FILES = [\n",
    "#     \"grandmaster_nl_pl_only_plot\",\n",
    "#     \"master_nl_pl_only_plot\",\n",
    "#     \"expert_nl_pl_only_plot\",\n",
    "# ]\n",
    "\n",
    "# path = f'data/'"
   ]
  },
  {
   "cell_type": "code",
   "execution_count": 8,
   "metadata": {},
   "outputs": [],
   "source": [
    "import json"
   ]
  },
  {
   "cell_type": "code",
   "execution_count": 9,
   "metadata": {},
   "outputs": [
    {
     "name": "stdout",
     "output_type": "stream",
     "text": [
      "rank grandmaster: 2670 items || original : 2670 items\n",
      "rank master: 4098 items || original : 4098 items\n",
      "rank expert: 10851 items || original : 10855 items\n"
     ]
    }
   ],
   "source": [
    "for name in FILE_NAMES:\n",
    "    path = f\"recommendation result/{name}\"\n",
    "    data_rank = name[:-12]\n",
    "\n",
    "    with open(path, 'r') as file:\n",
    "        original_file_path = open(f'data/{data_rank}_nl_pl_only_plot.json')\n",
    "        original_data = json.load(original_file_path)\n",
    "\n",
    "        data = json.load(file)\n",
    "\n",
    "        print(f\"rank {data_rank}: {len(data)} items || original : {len(original_data)} items\")"
   ]
  },
  {
   "cell_type": "code",
   "execution_count": 14,
   "metadata": {},
   "outputs": [
    {
     "name": "stdout",
     "output_type": "stream",
     "text": [
      "rank grandmaster: 2670 items || original : 2670 items\n",
      "rank master: 4098 items || original : 4098 items\n",
      "rank expert: 10851 items || original : 10855 items\n",
      "successfully write to /result/comparison_result.json\n",
      "Done!!\n"
     ]
    }
   ],
   "source": [
    "output = {}\n",
    "\n",
    "for name in FILE_NAMES:\n",
    "    path = f\"recommendation result/{name}\"\n",
    "    data_rank = name[:-12]\n",
    "\n",
    "    with open(path, 'r') as file:\n",
    "        original_file_path = open(f'data/{data_rank}_nl_pl_only_plot.json')\n",
    "        original_data = json.load(original_file_path)\n",
    "        data = json.load(file)\n",
    "        print(f\"rank {data_rank}: {len(data)} items || original : {len(original_data)} items\")\n",
    "\n",
    "        comparison_collection = {\n",
    "            \"ml\": 0,\n",
    "            \"es\": 0,\n",
    "            \"es-processed\": 0,\n",
    "        }\n",
    "\n",
    "        incorrect_pairs = []\n",
    "        incorrect = {\n",
    "\n",
    "        }\n",
    "        i = 0\n",
    "        for item in data:\n",
    "            # print(item.keys())\n",
    "            # print(\">>>>>>>>>>>>>>>>>>>>>>>>>>>>>>>>>>>>>>>>>>>>>>>>>>>>>>>>>>>>>>>>>>>>>>>>>>>>\\n>>>>>>>>>>>>>>>>>>>>>>>>>>>>>>>>>>>>>>>>>>>>>>>>>>>>>>>>>>>>>>>>>>>>>>>>>>>>\")\n",
    "            # print(json.dumps(item, indent=4))\n",
    "            # print(\">>>>>>>>>>>>>>>>>>>>>>>>>>>>>>>>>>>>>>>>>>>>>>>>>>>>>>>>>>>>>>>>>>>>>>>>>>>>\\n>>>>>>>>>>>>>>>>>>>>>>>>>>>>>>>>>>>>>>>>>>>>>>>>>>>>>>>>>>>>>>>>>>>>>>>>>>>>\")\n",
    "\n",
    "            original_code = item['original_code']\n",
    "            ml_code = item['recommended_code_ml']\n",
    "            es_base_code = item['recommended_code_es_base']\n",
    "            es_processed_code = item['recommended_code_es_processed']\n",
    "            # print(\"Markdown = \\n\")\n",
    "            # print(item['original_md'])\n",
    "\n",
    "            if (item['original_code'] == item['recommended_code_ml']):\n",
    "                comparison_collection[\"ml\"] = comparison_collection[\"ml\"] + 1\n",
    "            if (item['original_code'] == item['recommended_code_es_base']):\n",
    "                comparison_collection[\"es\"] = comparison_collection[\"es\"] + 1\n",
    "            if (item['original_code'] != item['recommended_code_es_base']):\n",
    "                if i < 10:\n",
    "                    incorrect_pairs.append({\n",
    "                        \"originalMarkdown\": item['original_md'],\n",
    "                        \"originalCode\": item['original_code'],\n",
    "                        \"bm25Code\": item['recommended_code_es_base']\n",
    "                    })\n",
    "                    i = i + 1\n",
    "            if (item['original_code'] == item['recommended_code_es_processed']):\n",
    "                comparison_collection[\"es-processed\"] = comparison_collection[\"es-processed\"] + 1\n",
    "            \n",
    "            # print(\"\\n\\n*********************************************************************************\\n\")\n",
    "            # if (i==10):\n",
    "            #     i = 0\n",
    "            #     break\n",
    "            # i = i+1\n",
    "        \n",
    "        output[data_rank] = {\n",
    "            \"correct_pairs_summarize\": comparison_collection,\n",
    "            \"incorrect_pairs_items\": incorrect_pairs\n",
    "        }\n",
    "        \n",
    "with open(f\"comparison_result.json\", \"w\") as file:\n",
    "    output = json.dump(output, file)\n",
    "    print(f'successfully write to /result/comparison_result.json')\n",
    "print(\"Done!!\")\n",
    "\n"
   ]
  },
  {
   "cell_type": "code",
   "execution_count": null,
   "metadata": {},
   "outputs": [],
   "source": []
  }
 ],
 "metadata": {
  "kernelspec": {
   "display_name": "senior-jupyter",
   "language": "python",
   "name": "python3"
  },
  "language_info": {
   "codemirror_mode": {
    "name": "ipython",
    "version": 3
   },
   "file_extension": ".py",
   "mimetype": "text/x-python",
   "name": "python",
   "nbconvert_exporter": "python",
   "pygments_lexer": "ipython3",
   "version": "3.10.9"
  },
  "orig_nbformat": 4
 },
 "nbformat": 4,
 "nbformat_minor": 2
}
